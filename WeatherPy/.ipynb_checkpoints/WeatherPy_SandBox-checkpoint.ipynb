{
 "cells": [
  {
   "cell_type": "code",
   "execution_count": 1,
   "metadata": {},
   "outputs": [],
   "source": [
    "# Dependencies and Setup\n",
    "import matplotlib.pyplot as plt\n",
    "import pandas as pd\n",
    "import scipy.stats as st\n",
    "from citipy import citipy\n",
    "from pprint import pprint\n",
    "from random import seed\n",
    "from random import randint\n",
    "\n",
    "# weather API Dependencies\n",
    "import requests\n",
    "from config import OpenWeatherMap_api_key as api_key\n",
    "\n",
    "# Printing Control\n",
    "import sys"
   ]
  },
  {
   "cell_type": "code",
   "execution_count": 7,
   "metadata": {},
   "outputs": [],
   "source": [
    "###########################\n",
    "### DICTIONARY VERSION ####\n",
    "###########################\n",
    "\n",
    "# set up to generate random integer values\n",
    "# seed random number generator\n",
    "seed(1)\n",
    "# create empty dictionary to store all the initial data\n",
    "city_dictionary = {}\n",
    "\n",
    "# set up weaather config information.\n",
    "weather_url = \"http://api.openweathermap.org/data/2.5/weather?\"\n",
    "weather_units = \"imperial\"\n",
    "city_count = 0\n",
    "\n",
    "\n",
    "# Set up the print over-ride to direct the logging to a file\n",
    "original_stdout = sys.stdout # Save a reference to the original standard output\n",
    "\n",
    "with open('City_Search_log.txt', 'w') as f:\n",
    "    sys.stdout = f # Change the standard output to the file we created.\n",
    "    \n",
    "    # generate 1200 entries and calculate the Latitude and Longitude from the random number \n",
    "    for i in range(1300):\n",
    "\n",
    "        # use -9000 to 9000 for the range and divide by 100 to get the correct form (xx.xx) for latitude\n",
    "        Random_Latitude = randint(-9000, 9000) /100\n",
    "\n",
    "        # use -18000 to 18000 for the range and divide by 100 to get the correct form (xxx.xx) for Longitude\n",
    "        Random_Longitude = randint(-18000, 18000) /100\n",
    "\n",
    "        # find the closest city\n",
    "        city = citipy.nearest_city(Random_Latitude,Random_Longitude)\n",
    "\n",
    "        # check to see if this city is already in the list...if not, add an entry for it and the other info...if it already is, ignore it\n",
    "        if city_dictionary.get(city.city_name) == None:\n",
    "            # since \"not found\" then we have a new city and should look it up\n",
    "            # Build weather query URL and request your results in imperial units\n",
    "            query_url = f\"{weather_url}appid={api_key}&q={city.city_name}&units={weather_units}\"\n",
    "            city.city_name\n",
    "        # Do an API call to get weather data\n",
    "            weather_json = requests.get(query_url).json()\n",
    "\n",
    "        # Get all the whether info from JSON response\n",
    "            try:\n",
    "                temperature    = weather_json[\"main\"][\"temp\"]\n",
    "            except KeyError:\n",
    "                print(f\"Processing search iteration: {i}, Status: Key Error, OpenWeatherMap API could not find city: {city.city_name}\")\n",
    "                continue \n",
    "            humidity       = weather_json[\"main\"][\"humidity\"]\n",
    "            cloudiness     = weather_json[\"clouds\"][\"all\"]\n",
    "            wind_speed     = weather_json[\"wind\"][\"speed\"]\n",
    "            real_latitude  = weather_json[\"coord\"][\"lat\"]\n",
    "            real_longitude = weather_json[\"coord\"][\"lon\"]\n",
    "            city_name_w    = weather_json[\"name\"]\n",
    "\n",
    "            # Update the list with the new entry and associated data\n",
    "            city_dictionary[city.city_name] = [city_name_w,temperature, humidity, cloudiness, wind_speed,real_latitude,real_longitude,city.country_code,Random_Latitude,Random_Longitude]\n",
    "            # update the count of successful searches and adds\n",
    "            city_count +=1\n",
    "            print(f\"Processing search iteration: {i}, Status: Success! The City Count is: {city_count} and the unique name is: {city.city_name}\")\n",
    "        else:\n",
    "            print(f\"Processing search iteration: {i}, Status: Duplicate City: {city.city_name}\")\n",
    "\n",
    "# reset the search log printout back to console\n",
    "sys.stdout = original_stdout # Reset the standard output to its original valu\n"
   ]
  },
  {
   "cell_type": "code",
   "execution_count": 3,
   "metadata": {},
   "outputs": [
    {
     "name": "stdout",
     "output_type": "stream",
     "text": [
      "The number of unique cities generated is: 511\n"
     ]
    }
   ],
   "source": [
    "# Check that we have at least 500 cities...\n",
    "print(f\"The number of unique cities generated is: {len(city_dictionary)}\")"
   ]
  },
  {
   "cell_type": "code",
   "execution_count": null,
   "metadata": {},
   "outputs": [],
   "source": []
  },
  {
   "cell_type": "code",
   "execution_count": 4,
   "metadata": {},
   "outputs": [],
   "source": [
    "# Convert the dictionary to a DataFrame and name the columns\n",
    "city_df = pd.DataFrame.from_dict(city_dictionary, orient='index',columns=['City Name','Temperature','Humidity %','Cloudiness %','Wind Speed (mph)','Latitude','Longitude','Country','Random_Latitude', 'Random_Longitude'])"
   ]
  },
  {
   "cell_type": "code",
   "execution_count": 5,
   "metadata": {},
   "outputs": [
    {
     "name": "stdout",
     "output_type": "stream",
     "text": [
      "The unique city table is constructed and looks like: \n",
      "\n",
      "                     City Name  Temperature  Humidity %  Cloudiness %  \\\n",
      "rikitea               Rikitea        78.15          71            52   \n",
      "puerto ayora     Puerto Ayora        75.00          98            21   \n",
      "saskylakh           Saskylakh       -34.28          82            76   \n",
      "aksarka               Aksarka       -22.72          86           100   \n",
      "barrow                 Barrow       -11.20          77            20   \n",
      "...                       ...          ...         ...           ...   \n",
      "copiapo               Copiapó        60.80          82            90   \n",
      "canavieiras       Canavieiras        78.53          87            93   \n",
      "xingyi                 Xingyi        65.17          47            68   \n",
      "goirle        Gemeente Goirle        42.15         100            75   \n",
      "karaton               Karaton        82.65          74            41   \n",
      "\n",
      "              Wind Speed (mph)  Latitude  Longitude Country  Random_Latitude  \\\n",
      "rikitea                  13.94  -23.1203  -134.9692      pf           -45.98   \n",
      "puerto ayora              7.14   -0.7393   -90.3518      ec            -6.42   \n",
      "saskylakh                 3.80   71.9167   114.0833      ru            72.34   \n",
      "aksarka                  16.42   66.5606    67.7975      ru            64.74   \n",
      "barrow                    4.61   71.2906  -156.7887      us            69.86   \n",
      "...                        ...       ...        ...     ...              ...   \n",
      "copiapo                   6.91  -27.3667   -70.3333      cl           -28.41   \n",
      "canavieiras              11.14  -15.6750   -38.9472      br           -15.32   \n",
      "xingyi                   11.07   24.1877   102.8170      cn            25.63   \n",
      "goirle                    4.61   51.5167     5.0500      nl            51.51   \n",
      "karaton                  17.00   -6.3424   106.1045      kz            45.83   \n",
      "\n",
      "              Random_Longitude  \n",
      "rikitea                -138.65  \n",
      "puerto ayora           -102.73  \n",
      "saskylakh               114.57  \n",
      "aksarka                  68.78  \n",
      "barrow                 -161.43  \n",
      "...                        ...  \n",
      "copiapo                 -68.85  \n",
      "canavieiras             -37.58  \n",
      "xingyi                  105.28  \n",
      "goirle                    5.03  \n",
      "karaton                  52.51  \n",
      "\n",
      "[511 rows x 10 columns]\n"
     ]
    }
   ],
   "source": [
    "print(f\"The unique city table is constructed and looks like: \\n\\n {city_df}\")"
   ]
  },
  {
   "cell_type": "code",
   "execution_count": 6,
   "metadata": {},
   "outputs": [
    {
     "data": {
      "image/png": "[encoded data removed]",
      "text/plain": [
       "<Figure size 432x288 with 1 Axes>"
      ]
     },
     "metadata": {
      "needs_background": "light"
     },
     "output_type": "display_data"
    }
   ],
   "source": [
    "# checck on the randomness of the data to see if it conforms to the general continents\n",
    "Scatter_Data_Graph = city_df.plot(x='Longitude', y=\"Latitude\", kind=\"scatter\",title=\"Check on Distribution of Cities\")"
   ]
  },
  {
   "cell_type": "code",
   "execution_count": null,
   "metadata": {},
   "outputs": [],
   "source": []
  },
  {
   "cell_type": "code",
   "execution_count": null,
   "metadata": {},
   "outputs": [],
   "source": []
  },
  {
   "cell_type": "code",
   "execution_count": null,
   "metadata": {},
   "outputs": [],
   "source": []
  }
 ],
 "metadata": {
  "kernelspec": {
   "display_name": "Python 3",
   "language": "python",
   "name": "python3"
  },
  "language_info": {
   "codemirror_mode": {
    "name": "ipython",
    "version": 3
   },
   "file_extension": ".py",
   "mimetype": "text/x-python",
   "name": "python",
   "nbconvert_exporter": "python",
   "pygments_lexer": "ipython3",
   "version": "3.6.10"
  }
 },
 "nbformat": 4,
 "nbformat_minor": 4
}
