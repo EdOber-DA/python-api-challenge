{
 "cells": [
  {
   "cell_type": "code",
   "execution_count": 1,
   "metadata": {},
   "outputs": [],
   "source": [
    "# Dependencies and Setup\n",
    "import matplotlib.pyplot as plt\n",
    "import pandas as pd\n",
    "import scipy.stats as st\n",
    "from citipy import citipy\n",
    "from pprint import pprint\n",
    "from random import seed\n",
    "from random import randint\n",
    "\n",
    "# weather API Dependencies\n",
    "import requests\n",
    "from config import OpenWeatherMap_api_key as api_key\n",
    "\n",
    "# Time calculations\n",
    "import time\n",
    "from datetime import datetime\n",
    "from time import strftime\n",
    "\n",
    "# Printing and Output Controls\n",
    "import sys\n",
    "import os"
   ]
  },
  {
   "cell_type": "code",
   "execution_count": 2,
   "metadata": {},
   "outputs": [],
   "source": [
    "###########################\n",
    "### DICTIONARY VERSION ####\n",
    "###########################\n",
    "\n",
    "# set up to generate random integer values\n",
    "# seed random number generator\n",
    "seed(1)\n",
    "# create empty dictionary to store all the initial data\n",
    "city_dictionary = {}\n",
    "\n",
    "# set up weaather config information.\n",
    "weather_url = \"http://api.openweathermap.org/data/2.5/weather?\"\n",
    "weather_units = \"imperial\"\n",
    "city_count = 0\n",
    "\n",
    "# set up output paths\n",
    "Output_Data_Path_Folder = \"Output\" \n",
    "Output_Log_txt = 'City_Process_Log.txt'\n",
    "Output_Log_Path = os.path.join(Output_Data_Path_Folder,Output_Log_txt)\n",
    "\n",
    "# Set up the print over-ride to direct the logging to a file\n",
    "original_stdout = sys.stdout # Save a reference to the original standard output\n",
    "\n",
    "with open(Output_Log_Path, 'w') as f:\n",
    "    sys.stdout = f # Change the standard output to the file we created.\n",
    "    \n",
    "    # generate 1400 entries and calculate the Latitude and Longitude from the random number \n",
    "    for i in range(1400):\n",
    "\n",
    "        # use -9000 to 9000 for the range and divide by 100 to get the correct form (xx.xx) for latitude\n",
    "        Random_Latitude = randint(-9000, 9000) /100\n",
    "\n",
    "        # use -18000 to 18000 for the range and divide by 100 to get the correct form (xxx.xx) for Longitude\n",
    "        Random_Longitude = randint(-18000, 18000) /100\n",
    "\n",
    "        # find the closest city\n",
    "        city = citipy.nearest_city(Random_Latitude,Random_Longitude)\n",
    "\n",
    "        # check to see if this city is already in the list...if not, add an entry for it and the other info...if it already is, ignore it\n",
    "        if city_dictionary.get(city.city_name) == None:\n",
    "            # since \"not found\" then we have a new city and should look it up\n",
    "            # Build weather query URL and request your results in imperial units\n",
    "            query_url = f\"{weather_url}appid={api_key}&q={city.city_name}&units={weather_units}\"\n",
    "            city.city_name\n",
    "        # Do an API call to get weather data\n",
    "            weather_json = requests.get(query_url).json()\n",
    "\n",
    "        # Get all the whether info from JSON response\n",
    "            try:\n",
    "                temperature    = weather_json[\"main\"][\"temp_max\"]\n",
    "            except KeyError:\n",
    "                print(f\"Processing search iteration: {i}, Status: Key Error, OpenWeatherMap API could not find city: {city.city_name}\")\n",
    "                continue \n",
    "            humidity       = weather_json[\"main\"][\"humidity\"]\n",
    "            cloudiness     = weather_json[\"clouds\"][\"all\"]\n",
    "            wind_speed     = weather_json[\"wind\"][\"speed\"]\n",
    "            real_latitude  = weather_json[\"coord\"][\"lat\"]\n",
    "            real_longitude = weather_json[\"coord\"][\"lon\"]\n",
    "            city_name_w    = weather_json[\"name\"]\n",
    "            date_time_UTC  = weather_json[\"dt\"]\n",
    "            shift          = weather_json[\"timezone\"]  \n",
    "            date_time_city = time.strftime(\"%a, %d %b %Y %H:%M:%S\", time.gmtime((date_time_UTC + shift)))\n",
    "\n",
    "            # Update the list with the new entry and associated data\n",
    "            city_dictionary[city.city_name] = [city_name_w,temperature, humidity, cloudiness, wind_speed,real_latitude,real_longitude,city.country_code,date_time_city,Random_Latitude,Random_Longitude]\n",
    "            # update the count of successful searches and adds\n",
    "            city_count +=1\n",
    "            print(f\"Processing search iteration: {i}, Status: Success! The City Count is: {city_count} and the unique name is: {city.city_name}\")\n",
    "        else:\n",
    "            print(f\"Processing search iteration: {i}, Status: Duplicate City: {city.city_name}\")\n",
    "\n",
    "# reset the search log printout back to console\n",
    "sys.stdout = original_stdout # Reset the standard output to its original valu"
   ]
  },
  {
   "cell_type": "code",
   "execution_count": 3,
   "metadata": {},
   "outputs": [
    {
     "name": "stdout",
     "output_type": "stream",
     "text": [
      "The number of unique cities generated is: 541\n"
     ]
    }
   ],
   "source": [
    "# Check that we have at least 500 cities...\n",
    "print(f\"The number of unique cities generated is: {len(city_dictionary)}\")"
   ]
  },
  {
   "cell_type": "code",
   "execution_count": 4,
   "metadata": {},
   "outputs": [],
   "source": [
    "# Convert the dictionary to a DataFrame and name the columns\n",
    "city_df = pd.DataFrame.from_dict(city_dictionary, orient='index',columns=['City Name','Max Temperature','Humidity %','Cloud Coverage %','Wind Speed (mph)','City Latitude','City Longitude','City Country',\"City Local Date_Time\",'Random_Latitude', 'Random_Longitude'])"
   ]
  },
  {
   "cell_type": "code",
   "execution_count": 5,
   "metadata": {},
   "outputs": [
    {
     "name": "stdout",
     "output_type": "stream",
     "text": [
      "The unique city table is constructed and looks like: \n",
      "\n",
      "\n"
     ]
    },
    {
     "data": {
      "text/html": [
       "<div>\n",
       "<style scoped>\n",
       "    .dataframe tbody tr th:only-of-type {\n",
       "        vertical-align: middle;\n",
       "    }\n",
       "\n",
       "    .dataframe tbody tr th {\n",
       "        vertical-align: top;\n",
       "    }\n",
       "\n",
       "    .dataframe thead th {\n",
       "        text-align: right;\n",
       "    }\n",
       "</style>\n",
       "<table border=\"1\" class=\"dataframe\">\n",
       "  <thead>\n",
       "    <tr style=\"text-align: right;\">\n",
       "      <th></th>\n",
       "      <th>City Name</th>\n",
       "      <th>Max Temperature</th>\n",
       "      <th>Humidity %</th>\n",
       "      <th>Cloud Coverage %</th>\n",
       "      <th>Wind Speed (mph)</th>\n",
       "      <th>City Latitude</th>\n",
       "      <th>City Longitude</th>\n",
       "      <th>City Country</th>\n",
       "      <th>City Local Date_Time</th>\n",
       "      <th>Random_Latitude</th>\n",
       "      <th>Random_Longitude</th>\n",
       "    </tr>\n",
       "  </thead>\n",
       "  <tbody>\n",
       "    <tr>\n",
       "      <th>rikitea</th>\n",
       "      <td>Rikitea</td>\n",
       "      <td>78.19</td>\n",
       "      <td>70</td>\n",
       "      <td>100</td>\n",
       "      <td>9.95</td>\n",
       "      <td>-23.1203</td>\n",
       "      <td>-134.9692</td>\n",
       "      <td>pf</td>\n",
       "      <td>Sat, 06 Feb 2021 13:22:53</td>\n",
       "      <td>-45.98</td>\n",
       "      <td>-138.65</td>\n",
       "    </tr>\n",
       "    <tr>\n",
       "      <th>puerto ayora</th>\n",
       "      <td>Puerto Ayora</td>\n",
       "      <td>86.00</td>\n",
       "      <td>62</td>\n",
       "      <td>0</td>\n",
       "      <td>16.11</td>\n",
       "      <td>-0.7393</td>\n",
       "      <td>-90.3518</td>\n",
       "      <td>ec</td>\n",
       "      <td>Sat, 06 Feb 2021 16:25:52</td>\n",
       "      <td>-6.42</td>\n",
       "      <td>-102.73</td>\n",
       "    </tr>\n",
       "    <tr>\n",
       "      <th>saskylakh</th>\n",
       "      <td>Saskylakh</td>\n",
       "      <td>-36.92</td>\n",
       "      <td>80</td>\n",
       "      <td>92</td>\n",
       "      <td>6.69</td>\n",
       "      <td>71.9167</td>\n",
       "      <td>114.0833</td>\n",
       "      <td>ru</td>\n",
       "      <td>Sun, 07 Feb 2021 07:27:23</td>\n",
       "      <td>72.34</td>\n",
       "      <td>114.57</td>\n",
       "    </tr>\n",
       "    <tr>\n",
       "      <th>aksarka</th>\n",
       "      <td>Aksarka</td>\n",
       "      <td>-34.64</td>\n",
       "      <td>82</td>\n",
       "      <td>97</td>\n",
       "      <td>19.75</td>\n",
       "      <td>66.5606</td>\n",
       "      <td>67.7975</td>\n",
       "      <td>ru</td>\n",
       "      <td>Sun, 07 Feb 2021 03:27:23</td>\n",
       "      <td>64.74</td>\n",
       "      <td>68.78</td>\n",
       "    </tr>\n",
       "    <tr>\n",
       "      <th>barrow</th>\n",
       "      <td>Barrow</td>\n",
       "      <td>-5.80</td>\n",
       "      <td>77</td>\n",
       "      <td>75</td>\n",
       "      <td>10.36</td>\n",
       "      <td>71.2906</td>\n",
       "      <td>-156.7887</td>\n",
       "      <td>us</td>\n",
       "      <td>Sat, 06 Feb 2021 13:27:23</td>\n",
       "      <td>69.86</td>\n",
       "      <td>-161.43</td>\n",
       "    </tr>\n",
       "  </tbody>\n",
       "</table>\n",
       "</div>"
      ],
      "text/plain": [
       "                 City Name  Max Temperature  Humidity %  Cloud Coverage %  \\\n",
       "rikitea            Rikitea            78.19          70               100   \n",
       "puerto ayora  Puerto Ayora            86.00          62                 0   \n",
       "saskylakh        Saskylakh           -36.92          80                92   \n",
       "aksarka            Aksarka           -34.64          82                97   \n",
       "barrow              Barrow            -5.80          77                75   \n",
       "\n",
       "              Wind Speed (mph)  City Latitude  City Longitude City Country  \\\n",
       "rikitea                   9.95       -23.1203       -134.9692           pf   \n",
       "puerto ayora             16.11        -0.7393        -90.3518           ec   \n",
       "saskylakh                 6.69        71.9167        114.0833           ru   \n",
       "aksarka                  19.75        66.5606         67.7975           ru   \n",
       "barrow                   10.36        71.2906       -156.7887           us   \n",
       "\n",
       "                   City Local Date_Time  Random_Latitude  Random_Longitude  \n",
       "rikitea       Sat, 06 Feb 2021 13:22:53           -45.98           -138.65  \n",
       "puerto ayora  Sat, 06 Feb 2021 16:25:52            -6.42           -102.73  \n",
       "saskylakh     Sun, 07 Feb 2021 07:27:23            72.34            114.57  \n",
       "aksarka       Sun, 07 Feb 2021 03:27:23            64.74             68.78  \n",
       "barrow        Sat, 06 Feb 2021 13:27:23            69.86           -161.43  "
      ]
     },
     "execution_count": 5,
     "metadata": {},
     "output_type": "execute_result"
    }
   ],
   "source": [
    "print(f\"The unique city table is constructed and looks like: \\n\\n\")\n",
    "city_df.head()"
   ]
  },
  {
   "cell_type": "code",
   "execution_count": 6,
   "metadata": {},
   "outputs": [
    {
     "data": {
      "image/png": "[encoded data removed]",
      "text/plain": [
       "<Figure size 432x288 with 1 Axes>"
      ]
     },
     "metadata": {
      "needs_background": "light"
     },
     "output_type": "display_data"
    }
   ],
   "source": [
    "# check on the randomness of the data to see if it generally conforms to the shape of the continents\n",
    "Scatter_Data_Graph = city_df.plot(x='City Longitude', y=\"City Latitude\", kind=\"scatter\",title=\"Check on Distribution of Cities\")"
   ]
  },
  {
   "cell_type": "code",
   "execution_count": 7,
   "metadata": {},
   "outputs": [],
   "source": [
    "# Set Path to the output file in the analysis folder\n",
    "DataFrame_File_CSV = 'City_DataFrame_CSV_Output.csv'\n",
    "Output_CSV_Path = os.path.join(Output_Data_Path_Folder,DataFrame_File_CSV)\n",
    "\n",
    "# Open the data file with write capabilities\n",
    "city_df.to_csv(Output_CSV_Path, index = False)"
   ]
  },
  {
   "cell_type": "code",
   "execution_count": null,
   "metadata": {},
   "outputs": [],
   "source": []
  },
  {
   "cell_type": "code",
   "execution_count": null,
   "metadata": {},
   "outputs": [],
   "source": []
  },
  {
   "cell_type": "code",
   "execution_count": null,
   "metadata": {},
   "outputs": [],
   "source": []
  },
  {
   "cell_type": "code",
   "execution_count": null,
   "metadata": {},
   "outputs": [],
   "source": []
  },
  {
   "cell_type": "code",
   "execution_count": null,
   "metadata": {},
   "outputs": [],
   "source": []
  }
 ],
 "metadata": {
  "kernelspec": {
   "display_name": "Python 3",
   "language": "python",
   "name": "python3"
  },
  "language_info": {
   "codemirror_mode": {
    "name": "ipython",
    "version": 3
   },
   "file_extension": ".py",
   "mimetype": "text/x-python",
   "name": "python",
   "nbconvert_exporter": "python",
   "pygments_lexer": "ipython3",
   "version": "3.6.10"
  }
 },
 "nbformat": 4,
 "nbformat_minor": 4
}
