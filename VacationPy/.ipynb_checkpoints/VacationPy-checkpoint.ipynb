{
 "cells": [
  {
   "cell_type": "code",
   "execution_count": 4,
   "metadata": {},
   "outputs": [],
   "source": [
    "from config import (census_key, gkey)\n",
    "import gmaps\n",
    "import numpy as np\n",
    "import pandas as pd\n",
    "import requests\n",
    "import time\n",
    "from scipy.stats import linregress\n",
    "from matplotlib import pyplot as plt\n",
    "\n"
   ]
  },
  {
   "cell_type": "code",
   "execution_count": 16,
   "metadata": {},
   "outputs": [],
   "source": [
    "# Configure gmaps with API key\n",
    "gmaps.configure(api_key=gkey)"
   ]
  },
  {
   "cell_type": "code",
   "execution_count": 36,
   "metadata": {},
   "outputs": [],
   "source": [
    "city_data = pd.read_csv(\"../WeatherPy/Output/City_DataFrame_CSV_Output.csv\",dtype=\"object\", encoding=\"utf-8\")\n",
    "# Fix data types\n",
    "city_data['Temperature (F)'] = city_data['Temperature (F)'].astype(float)"
   ]
  },
  {
   "cell_type": "code",
   "execution_count": 6,
   "metadata": {},
   "outputs": [
    {
     "data": {
      "text/html": [
       "<div>\n",
       "<style scoped>\n",
       "    .dataframe tbody tr th:only-of-type {\n",
       "        vertical-align: middle;\n",
       "    }\n",
       "\n",
       "    .dataframe tbody tr th {\n",
       "        vertical-align: top;\n",
       "    }\n",
       "\n",
       "    .dataframe thead th {\n",
       "        text-align: right;\n",
       "    }\n",
       "</style>\n",
       "<table border=\"1\" class=\"dataframe\">\n",
       "  <thead>\n",
       "    <tr style=\"text-align: right;\">\n",
       "      <th></th>\n",
       "      <th>City Name</th>\n",
       "      <th>Temperature (F)</th>\n",
       "      <th>Humidity %</th>\n",
       "      <th>Cloud Coverage %</th>\n",
       "      <th>Wind Speed (mph)</th>\n",
       "      <th>City Latitude</th>\n",
       "      <th>City Longitude</th>\n",
       "      <th>City Country</th>\n",
       "      <th>City Local Date_Time</th>\n",
       "      <th>Random_Latitude</th>\n",
       "      <th>Random_Longitude</th>\n",
       "    </tr>\n",
       "  </thead>\n",
       "  <tbody>\n",
       "    <tr>\n",
       "      <th>0</th>\n",
       "      <td>Rikitea</td>\n",
       "      <td>77.63</td>\n",
       "      <td>71</td>\n",
       "      <td>96</td>\n",
       "      <td>11.5</td>\n",
       "      <td>-23.1203</td>\n",
       "      <td>-134.9692</td>\n",
       "      <td>pf</td>\n",
       "      <td>Sun, 07 Feb 2021 10:13:34</td>\n",
       "      <td>-45.98</td>\n",
       "      <td>-138.65</td>\n",
       "    </tr>\n",
       "    <tr>\n",
       "      <th>1</th>\n",
       "      <td>Puerto Ayora</td>\n",
       "      <td>84.2</td>\n",
       "      <td>70</td>\n",
       "      <td>0</td>\n",
       "      <td>17.27</td>\n",
       "      <td>-0.7393</td>\n",
       "      <td>-90.3518</td>\n",
       "      <td>ec</td>\n",
       "      <td>Sun, 07 Feb 2021 13:13:34</td>\n",
       "      <td>-6.42</td>\n",
       "      <td>-102.73</td>\n",
       "    </tr>\n",
       "    <tr>\n",
       "      <th>2</th>\n",
       "      <td>Saskylakh</td>\n",
       "      <td>-37.95</td>\n",
       "      <td>78</td>\n",
       "      <td>25</td>\n",
       "      <td>12.33</td>\n",
       "      <td>71.9167</td>\n",
       "      <td>114.0833</td>\n",
       "      <td>ru</td>\n",
       "      <td>Mon, 08 Feb 2021 03:59:22</td>\n",
       "      <td>72.34</td>\n",
       "      <td>114.57</td>\n",
       "    </tr>\n",
       "    <tr>\n",
       "      <th>3</th>\n",
       "      <td>Aksarka</td>\n",
       "      <td>-16.89</td>\n",
       "      <td>88</td>\n",
       "      <td>100</td>\n",
       "      <td>29.59</td>\n",
       "      <td>66.5606</td>\n",
       "      <td>67.7975</td>\n",
       "      <td>ru</td>\n",
       "      <td>Mon, 08 Feb 2021 00:13:34</td>\n",
       "      <td>64.74</td>\n",
       "      <td>68.78</td>\n",
       "    </tr>\n",
       "    <tr>\n",
       "      <th>4</th>\n",
       "      <td>Barrow</td>\n",
       "      <td>-23.8</td>\n",
       "      <td>76</td>\n",
       "      <td>20</td>\n",
       "      <td>11.5</td>\n",
       "      <td>71.2906</td>\n",
       "      <td>-156.7887</td>\n",
       "      <td>us</td>\n",
       "      <td>Sun, 07 Feb 2021 10:11:58</td>\n",
       "      <td>69.86</td>\n",
       "      <td>-161.43</td>\n",
       "    </tr>\n",
       "    <tr>\n",
       "      <th>...</th>\n",
       "      <td>...</td>\n",
       "      <td>...</td>\n",
       "      <td>...</td>\n",
       "      <td>...</td>\n",
       "      <td>...</td>\n",
       "      <td>...</td>\n",
       "      <td>...</td>\n",
       "      <td>...</td>\n",
       "      <td>...</td>\n",
       "      <td>...</td>\n",
       "      <td>...</td>\n",
       "    </tr>\n",
       "    <tr>\n",
       "      <th>536</th>\n",
       "      <td>Honāvar</td>\n",
       "      <td>73.69</td>\n",
       "      <td>42</td>\n",
       "      <td>0</td>\n",
       "      <td>6.11</td>\n",
       "      <td>14.2833</td>\n",
       "      <td>74.45</td>\n",
       "      <td>in</td>\n",
       "      <td>Mon, 08 Feb 2021 00:45:12</td>\n",
       "      <td>13.61</td>\n",
       "      <td>73.01</td>\n",
       "    </tr>\n",
       "    <tr>\n",
       "      <th>537</th>\n",
       "      <td>Camaná</td>\n",
       "      <td>75.99</td>\n",
       "      <td>70</td>\n",
       "      <td>77</td>\n",
       "      <td>8.05</td>\n",
       "      <td>-16.6228</td>\n",
       "      <td>-72.7111</td>\n",
       "      <td>pe</td>\n",
       "      <td>Sun, 07 Feb 2021 14:15:12</td>\n",
       "      <td>-20.86</td>\n",
       "      <td>-76.24</td>\n",
       "    </tr>\n",
       "    <tr>\n",
       "      <th>538</th>\n",
       "      <td>Kolondiéba</td>\n",
       "      <td>87.85</td>\n",
       "      <td>15</td>\n",
       "      <td>100</td>\n",
       "      <td>5.79</td>\n",
       "      <td>11.0882</td>\n",
       "      <td>-6.8926</td>\n",
       "      <td>ml</td>\n",
       "      <td>Sun, 07 Feb 2021 19:15:12</td>\n",
       "      <td>10.93</td>\n",
       "      <td>-6.91</td>\n",
       "    </tr>\n",
       "    <tr>\n",
       "      <th>539</th>\n",
       "      <td>Buluang</td>\n",
       "      <td>75.49</td>\n",
       "      <td>87</td>\n",
       "      <td>100</td>\n",
       "      <td>5.99</td>\n",
       "      <td>13.3068</td>\n",
       "      <td>123.3425</td>\n",
       "      <td>ph</td>\n",
       "      <td>Mon, 08 Feb 2021 03:15:13</td>\n",
       "      <td>13.43</td>\n",
       "      <td>116.32</td>\n",
       "    </tr>\n",
       "    <tr>\n",
       "      <th>540</th>\n",
       "      <td>Ixtapa</td>\n",
       "      <td>75.2</td>\n",
       "      <td>64</td>\n",
       "      <td>1</td>\n",
       "      <td>10.36</td>\n",
       "      <td>20.7</td>\n",
       "      <td>-105.2</td>\n",
       "      <td>mx</td>\n",
       "      <td>Sun, 07 Feb 2021 13:13:49</td>\n",
       "      <td>9.68</td>\n",
       "      <td>-105.08</td>\n",
       "    </tr>\n",
       "  </tbody>\n",
       "</table>\n",
       "<p>541 rows × 11 columns</p>\n",
       "</div>"
      ],
      "text/plain": [
       "        City Name Temperature (F) Humidity % Cloud Coverage %  \\\n",
       "0         Rikitea           77.63         71               96   \n",
       "1    Puerto Ayora            84.2         70                0   \n",
       "2       Saskylakh          -37.95         78               25   \n",
       "3         Aksarka          -16.89         88              100   \n",
       "4          Barrow           -23.8         76               20   \n",
       "..            ...             ...        ...              ...   \n",
       "536       Honāvar           73.69         42                0   \n",
       "537        Camaná           75.99         70               77   \n",
       "538    Kolondiéba           87.85         15              100   \n",
       "539       Buluang           75.49         87              100   \n",
       "540        Ixtapa            75.2         64                1   \n",
       "\n",
       "    Wind Speed (mph) City Latitude City Longitude City Country  \\\n",
       "0               11.5      -23.1203      -134.9692           pf   \n",
       "1              17.27       -0.7393       -90.3518           ec   \n",
       "2              12.33       71.9167       114.0833           ru   \n",
       "3              29.59       66.5606        67.7975           ru   \n",
       "4               11.5       71.2906      -156.7887           us   \n",
       "..               ...           ...            ...          ...   \n",
       "536             6.11       14.2833          74.45           in   \n",
       "537             8.05      -16.6228       -72.7111           pe   \n",
       "538             5.79       11.0882        -6.8926           ml   \n",
       "539             5.99       13.3068       123.3425           ph   \n",
       "540            10.36          20.7         -105.2           mx   \n",
       "\n",
       "          City Local Date_Time Random_Latitude Random_Longitude  \n",
       "0    Sun, 07 Feb 2021 10:13:34          -45.98          -138.65  \n",
       "1    Sun, 07 Feb 2021 13:13:34           -6.42          -102.73  \n",
       "2    Mon, 08 Feb 2021 03:59:22           72.34           114.57  \n",
       "3    Mon, 08 Feb 2021 00:13:34           64.74            68.78  \n",
       "4    Sun, 07 Feb 2021 10:11:58           69.86          -161.43  \n",
       "..                         ...             ...              ...  \n",
       "536  Mon, 08 Feb 2021 00:45:12           13.61            73.01  \n",
       "537  Sun, 07 Feb 2021 14:15:12          -20.86           -76.24  \n",
       "538  Sun, 07 Feb 2021 19:15:12           10.93            -6.91  \n",
       "539  Mon, 08 Feb 2021 03:15:13           13.43           116.32  \n",
       "540  Sun, 07 Feb 2021 13:13:49            9.68          -105.08  \n",
       "\n",
       "[541 rows x 11 columns]"
      ]
     },
     "execution_count": 6,
     "metadata": {},
     "output_type": "execute_result"
    }
   ],
   "source": [
    "city_data"
   ]
  },
  {
   "cell_type": "code",
   "execution_count": 8,
   "metadata": {},
   "outputs": [],
   "source": [
    "locations = city_data[[\"City Latitude\", \"City Longitude\"]].astype(float)\n",
    "humidity  = city_data[\"Humidity %\"].astype(float)"
   ]
  },
  {
   "cell_type": "code",
   "execution_count": 20,
   "metadata": {},
   "outputs": [
    {
     "data": {
      "text/plain": [
       "count    541.000000\n",
       "mean      71.020333\n",
       "std       20.823721\n",
       "min        9.000000\n",
       "25%       61.000000\n",
       "50%       76.000000\n",
       "75%       86.000000\n",
       "max      100.000000\n",
       "Name: Humidity %, dtype: float64"
      ]
     },
     "execution_count": 20,
     "metadata": {},
     "output_type": "execute_result"
    }
   ],
   "source": [
    "humidity.describe()"
   ]
  },
  {
   "cell_type": "code",
   "execution_count": 29,
   "metadata": {},
   "outputs": [
    {
     "data": {
      "application/vnd.jupyter.widget-view+json": {
       "model_id": "c25bad40a17943f0ad576573c6d7d643",
       "version_major": 2,
       "version_minor": 0
      },
      "text/plain": [
       "Figure(layout=FigureLayout(height='420px'))"
      ]
     },
     "metadata": {},
     "output_type": "display_data"
    }
   ],
   "source": [
    "fig = gmaps.figure()\n",
    "\n",
    "heat_layer = gmaps.heatmap_layer(locations, weights=humidity,dissipating=False,opacity=.7, \n",
    "                                 max_intensity=100,point_radius = 2.5)\n",
    "\n",
    "fig.add_layer(heat_layer)\n",
    "\n",
    "fig"
   ]
  },
  {
   "cell_type": "code",
   "execution_count": 35,
   "metadata": {},
   "outputs": [
    {
     "data": {
      "text/plain": [
       "City Name               object\n",
       "Temperature (F)         object\n",
       "Humidity %              object\n",
       "Cloud Coverage %        object\n",
       "Wind Speed (mph)        object\n",
       "City Latitude           object\n",
       "City Longitude          object\n",
       "City Country            object\n",
       "City Local Date_Time    object\n",
       "Random_Latitude         object\n",
       "Random_Longitude        object\n",
       "dtype: object"
      ]
     },
     "execution_count": 35,
     "metadata": {},
     "output_type": "execute_result"
    }
   ],
   "source": [
    "city_data.dtypes"
   ]
  },
  {
   "cell_type": "code",
   "execution_count": null,
   "metadata": {},
   "outputs": [],
   "source": [
    "ideal_cities = city_data[float((city_data[\"Temperature (F)\"]) >= 70) & (float(city_data[\"Temperature (F)\"]) <= 80)]"
   ]
  },
  {
   "cell_type": "code",
   "execution_count": null,
   "metadata": {},
   "outputs": [],
   "source": []
  }
 ],
 "metadata": {
  "kernelspec": {
   "display_name": "Python 3",
   "language": "python",
   "name": "python3"
  },
  "language_info": {
   "codemirror_mode": {
    "name": "ipython",
    "version": 3
   },
   "file_extension": ".py",
   "mimetype": "text/x-python",
   "name": "python",
   "nbconvert_exporter": "python",
   "pygments_lexer": "ipython3",
   "version": "3.6.10"
  }
 },
 "nbformat": 4,
 "nbformat_minor": 4
}
